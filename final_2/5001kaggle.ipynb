{
 "cells": [
  {
   "cell_type": "markdown",
   "metadata": {},
   "source": [
    "# preprocess training data"
   ]
  },
  {
   "cell_type": "code",
   "execution_count": 1,
   "metadata": {},
   "outputs": [],
   "source": [
    "import pandas as pd\n",
    "\n",
    "# get the training dataset\n",
    "train_data = pd.read_csv(\"./train.csv\")"
   ]
  },
  {
   "cell_type": "code",
   "execution_count": 2,
   "metadata": {},
   "outputs": [],
   "source": [
    "train_data.dropna(inplace=True)\n",
    "train_data.reset_index(drop=True, inplace=True)"
   ]
  },
  {
   "cell_type": "code",
   "execution_count": 3,
   "metadata": {},
   "outputs": [],
   "source": [
    "train_data[\"purchase_date\"] = pd.to_datetime(train_data[\"purchase_date\"])\n",
    "train_data[\"release_date\"] = pd.to_datetime(train_data[\"release_date\"])"
   ]
  },
  {
   "cell_type": "code",
   "execution_count": 4,
   "metadata": {},
   "outputs": [
    {
     "data": {
      "text/html": [
       "<div>\n",
       "<style scoped>\n",
       "    .dataframe tbody tr th:only-of-type {\n",
       "        vertical-align: middle;\n",
       "    }\n",
       "\n",
       "    .dataframe tbody tr th {\n",
       "        vertical-align: top;\n",
       "    }\n",
       "\n",
       "    .dataframe thead th {\n",
       "        text-align: right;\n",
       "    }\n",
       "</style>\n",
       "<table border=\"1\" class=\"dataframe\">\n",
       "  <thead>\n",
       "    <tr style=\"text-align: right;\">\n",
       "      <th></th>\n",
       "      <th>playtime_forever</th>\n",
       "      <th>total_positive_reviews</th>\n",
       "      <th>total_negative_reviews</th>\n",
       "      <th>purchase_Year</th>\n",
       "      <th>purchase_Month</th>\n",
       "    </tr>\n",
       "  </thead>\n",
       "  <tbody>\n",
       "    <tr>\n",
       "      <td>0</td>\n",
       "      <td>0.000000</td>\n",
       "      <td>372.0</td>\n",
       "      <td>96.0</td>\n",
       "      <td>2018</td>\n",
       "      <td>7</td>\n",
       "    </tr>\n",
       "    <tr>\n",
       "      <td>1</td>\n",
       "      <td>0.016667</td>\n",
       "      <td>23.0</td>\n",
       "      <td>0.0</td>\n",
       "      <td>2016</td>\n",
       "      <td>11</td>\n",
       "    </tr>\n",
       "    <tr>\n",
       "      <td>2</td>\n",
       "      <td>0.000000</td>\n",
       "      <td>3018.0</td>\n",
       "      <td>663.0</td>\n",
       "      <td>2018</td>\n",
       "      <td>7</td>\n",
       "    </tr>\n",
       "    <tr>\n",
       "      <td>3</td>\n",
       "      <td>1.533333</td>\n",
       "      <td>63078.0</td>\n",
       "      <td>1746.0</td>\n",
       "      <td>2016</td>\n",
       "      <td>11</td>\n",
       "    </tr>\n",
       "    <tr>\n",
       "      <td>4</td>\n",
       "      <td>22.333333</td>\n",
       "      <td>8841.0</td>\n",
       "      <td>523.0</td>\n",
       "      <td>2018</td>\n",
       "      <td>3</td>\n",
       "    </tr>\n",
       "  </tbody>\n",
       "</table>\n",
       "</div>"
      ],
      "text/plain": [
       "   playtime_forever  total_positive_reviews  total_negative_reviews  \\\n",
       "0          0.000000                   372.0                    96.0   \n",
       "1          0.016667                    23.0                     0.0   \n",
       "2          0.000000                  3018.0                   663.0   \n",
       "3          1.533333                 63078.0                  1746.0   \n",
       "4         22.333333                  8841.0                   523.0   \n",
       "\n",
       "   purchase_Year  purchase_Month  \n",
       "0           2018               7  \n",
       "1           2016              11  \n",
       "2           2018               7  \n",
       "3           2016              11  \n",
       "4           2018               3  "
      ]
     },
     "execution_count": 4,
     "metadata": {},
     "output_type": "execute_result"
    }
   ],
   "source": [
    "train_data['purchase_Year'] = train_data['purchase_date'].dt.year \n",
    "train_data['purchase_Month'] = train_data['purchase_date'].dt.month \n",
    "train_data.drop(columns=[\"id\", \"tags\", \"purchase_date\", \"release_date\", \"genres\", \"categories\", \"is_free\", \"price\"], inplace=True)\n",
    "train_data.head()"
   ]
  },
  {
   "cell_type": "code",
   "execution_count": 5,
   "metadata": {},
   "outputs": [],
   "source": [
    "train_data[[\"total_positive_reviews\", \"total_negative_reviews\"]] = train_data[[\"total_positive_reviews\", \"total_negative_reviews\"]].astype(\"int\")"
   ]
  },
  {
   "cell_type": "markdown",
   "metadata": {},
   "source": [
    "# preprocess test data"
   ]
  },
  {
   "cell_type": "code",
   "execution_count": 6,
   "metadata": {},
   "outputs": [],
   "source": [
    "import pandas as pd\n",
    "\n",
    "test_data = pd.read_csv(\"./test.csv\")"
   ]
  },
  {
   "cell_type": "code",
   "execution_count": 7,
   "metadata": {},
   "outputs": [],
   "source": [
    "test_data[\"purchase_date\"] = pd.to_datetime(test_data[\"purchase_date\"])\n",
    "test_data[\"release_date\"] = pd.to_datetime(test_data[\"release_date\"])"
   ]
  },
  {
   "cell_type": "code",
   "execution_count": 8,
   "metadata": {},
   "outputs": [
    {
     "data": {
      "text/html": [
       "<div>\n",
       "<style scoped>\n",
       "    .dataframe tbody tr th:only-of-type {\n",
       "        vertical-align: middle;\n",
       "    }\n",
       "\n",
       "    .dataframe tbody tr th {\n",
       "        vertical-align: top;\n",
       "    }\n",
       "\n",
       "    .dataframe thead th {\n",
       "        text-align: right;\n",
       "    }\n",
       "</style>\n",
       "<table border=\"1\" class=\"dataframe\">\n",
       "  <thead>\n",
       "    <tr style=\"text-align: right;\">\n",
       "      <th></th>\n",
       "      <th>id</th>\n",
       "      <th>total_positive_reviews</th>\n",
       "      <th>total_negative_reviews</th>\n",
       "      <th>purchase_Year</th>\n",
       "      <th>purchase_Month</th>\n",
       "    </tr>\n",
       "  </thead>\n",
       "  <tbody>\n",
       "    <tr>\n",
       "      <td>0</td>\n",
       "      <td>0</td>\n",
       "      <td>2607.0</td>\n",
       "      <td>1122.0</td>\n",
       "      <td>2018.0</td>\n",
       "      <td>10.0</td>\n",
       "    </tr>\n",
       "    <tr>\n",
       "      <td>1</td>\n",
       "      <td>1</td>\n",
       "      <td>5762.0</td>\n",
       "      <td>2235.0</td>\n",
       "      <td>2019.0</td>\n",
       "      <td>7.0</td>\n",
       "    </tr>\n",
       "    <tr>\n",
       "      <td>2</td>\n",
       "      <td>2</td>\n",
       "      <td>687.0</td>\n",
       "      <td>133.0</td>\n",
       "      <td>2019.0</td>\n",
       "      <td>7.0</td>\n",
       "    </tr>\n",
       "    <tr>\n",
       "      <td>3</td>\n",
       "      <td>3</td>\n",
       "      <td>67.0</td>\n",
       "      <td>39.0</td>\n",
       "      <td>2018.0</td>\n",
       "      <td>1.0</td>\n",
       "    </tr>\n",
       "    <tr>\n",
       "      <td>4</td>\n",
       "      <td>4</td>\n",
       "      <td>40344.0</td>\n",
       "      <td>3708.0</td>\n",
       "      <td>2017.0</td>\n",
       "      <td>2.0</td>\n",
       "    </tr>\n",
       "  </tbody>\n",
       "</table>\n",
       "</div>"
      ],
      "text/plain": [
       "   id  total_positive_reviews  total_negative_reviews  purchase_Year  \\\n",
       "0   0                  2607.0                  1122.0         2018.0   \n",
       "1   1                  5762.0                  2235.0         2019.0   \n",
       "2   2                   687.0                   133.0         2019.0   \n",
       "3   3                    67.0                    39.0         2018.0   \n",
       "4   4                 40344.0                  3708.0         2017.0   \n",
       "\n",
       "   purchase_Month  \n",
       "0            10.0  \n",
       "1             7.0  \n",
       "2             7.0  \n",
       "3             1.0  \n",
       "4             2.0  "
      ]
     },
     "execution_count": 8,
     "metadata": {},
     "output_type": "execute_result"
    }
   ],
   "source": [
    "test_data['purchase_Year'] = test_data['purchase_date'].dt.year \n",
    "test_data['purchase_Month'] = test_data['purchase_date'].dt.month \n",
    "test_data.drop(columns=[\"tags\", \"purchase_date\", \"release_date\", \"genres\", \"categories\", \"is_free\", \"price\"], inplace=True)\n",
    "test_data.head()"
   ]
  },
  {
   "cell_type": "code",
   "execution_count": 9,
   "metadata": {},
   "outputs": [
    {
     "data": {
      "text/plain": [
       "id                        False\n",
       "total_positive_reviews    False\n",
       "total_negative_reviews    False\n",
       "purchase_Year             False\n",
       "purchase_Month            False\n",
       "dtype: bool"
      ]
     },
     "execution_count": 9,
     "metadata": {},
     "output_type": "execute_result"
    }
   ],
   "source": [
    "test_data[\"total_positive_reviews\"].fillna(test_data[\"total_positive_reviews\"].mean(), inplace=True)\n",
    "test_data[\"total_negative_reviews\"].fillna(test_data[\"total_negative_reviews\"].mean(), inplace=True)\n",
    "test_data[\"purchase_Year\"].fillna(test_data[\"purchase_Year\"].median(), inplace=True)\n",
    "test_data[\"purchase_Month\"].fillna(test_data[\"purchase_Month\"].median(), inplace=True)\n",
    "test_data.isnull().any()"
   ]
  },
  {
   "cell_type": "code",
   "execution_count": 10,
   "metadata": {},
   "outputs": [],
   "source": [
    "test_data[[\"total_positive_reviews\", \"total_negative_reviews\", \"purchase_Year\", \"purchase_Month\"]] = test_data[[\"total_positive_reviews\", \"total_negative_reviews\", \"purchase_Year\", \"purchase_Month\"]].astype(\"int\")"
   ]
  },
  {
   "cell_type": "markdown",
   "metadata": {},
   "source": [
    "# Fit model"
   ]
  },
  {
   "cell_type": "code",
   "execution_count": 11,
   "metadata": {},
   "outputs": [],
   "source": [
    "train_data_Y = train_data[\"playtime_forever\"]\n",
    "train_data_X = train_data.drop(columns=[\"playtime_forever\"], inplace=False)"
   ]
  },
  {
   "cell_type": "code",
   "execution_count": 12,
   "metadata": {},
   "outputs": [],
   "source": [
    "test_data_X = test_data.drop(columns=[\"id\"], inplace=False)"
   ]
  },
  {
   "cell_type": "code",
   "execution_count": 13,
   "metadata": {},
   "outputs": [
    {
     "data": {
      "text/html": [
       "<div>\n",
       "<style scoped>\n",
       "    .dataframe tbody tr th:only-of-type {\n",
       "        vertical-align: middle;\n",
       "    }\n",
       "\n",
       "    .dataframe tbody tr th {\n",
       "        vertical-align: top;\n",
       "    }\n",
       "\n",
       "    .dataframe thead th {\n",
       "        text-align: right;\n",
       "    }\n",
       "</style>\n",
       "<table border=\"1\" class=\"dataframe\">\n",
       "  <thead>\n",
       "    <tr style=\"text-align: right;\">\n",
       "      <th></th>\n",
       "      <th>id</th>\n",
       "      <th>playtime_forever</th>\n",
       "    </tr>\n",
       "  </thead>\n",
       "  <tbody>\n",
       "    <tr>\n",
       "      <td>0</td>\n",
       "      <td>0</td>\n",
       "      <td>1.063760</td>\n",
       "    </tr>\n",
       "    <tr>\n",
       "      <td>1</td>\n",
       "      <td>1</td>\n",
       "      <td>1.282527</td>\n",
       "    </tr>\n",
       "    <tr>\n",
       "      <td>2</td>\n",
       "      <td>2</td>\n",
       "      <td>0.650554</td>\n",
       "    </tr>\n",
       "    <tr>\n",
       "      <td>3</td>\n",
       "      <td>3</td>\n",
       "      <td>1.313096</td>\n",
       "    </tr>\n",
       "    <tr>\n",
       "      <td>4</td>\n",
       "      <td>4</td>\n",
       "      <td>10.157902</td>\n",
       "    </tr>\n",
       "  </tbody>\n",
       "</table>\n",
       "</div>"
      ],
      "text/plain": [
       "   id  playtime_forever\n",
       "0   0          1.063760\n",
       "1   1          1.282527\n",
       "2   2          0.650554\n",
       "3   3          1.313096\n",
       "4   4         10.157902"
      ]
     },
     "execution_count": 13,
     "metadata": {},
     "output_type": "execute_result"
    }
   ],
   "source": [
    "from math import sqrt\n",
    "from sklearn.ensemble import RandomForestRegressor\n",
    "import lightgbm as lgb\n",
    "\n",
    "model = lgb.LGBMRegressor(objective='regression', n_estimators=20)\n",
    "model.fit(train_data_X, train_data_Y)\n",
    "\n",
    "test = model.predict(test_data_X)\n",
    "test_data[\"playtime_forever\"] = test\n",
    "predict_data = test_data[[\"id\", \"playtime_forever\"]]\n",
    "predict_data.head()"
   ]
  },
  {
   "cell_type": "code",
   "execution_count": 14,
   "metadata": {},
   "outputs": [],
   "source": [
    "predict_data.to_csv(\"./final_2.csv\", index=False)"
   ]
  },
  {
   "cell_type": "code",
   "execution_count": null,
   "metadata": {},
   "outputs": [],
   "source": []
  }
 ],
 "metadata": {
  "kernelspec": {
   "display_name": "Python 3",
   "language": "python",
   "name": "python3"
  },
  "language_info": {
   "codemirror_mode": {
    "name": "ipython",
    "version": 3
   },
   "file_extension": ".py",
   "mimetype": "text/x-python",
   "name": "python",
   "nbconvert_exporter": "python",
   "pygments_lexer": "ipython3",
   "version": "3.6.3"
  }
 },
 "nbformat": 4,
 "nbformat_minor": 2
}
